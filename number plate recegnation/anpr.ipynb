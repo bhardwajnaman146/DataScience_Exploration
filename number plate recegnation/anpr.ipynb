{
 "cells": [
  {
   "cell_type": "markdown",
   "id": "68cda755",
   "metadata": {},
   "source": [
    "1. Reading images to OpeCV\n",
    "2. Detecting number plates using Edge Detection\n",
    "3. Extracting number plate text using OCR"
   ]
  },
  {
   "cell_type": "code",
   "execution_count": null,
   "id": "6839bdf1",
   "metadata": {},
   "outputs": [],
   "source": [
    "#Intalling and Import Dependencies\n",
    "import cv2\n",
    "from matplotlib import pyplot as plt\n",
    "import numpy as np\n",
    "import imutils\n",
    "import easyocr"
   ]
  },
  {
   "cell_type": "markdown",
   "id": "087c4f00",
   "metadata": {},
   "source": [
    "### 1. Read in Image, Grayscale and Blur"
   ]
  },
  {
   "cell_type": "code",
   "execution_count": null,
   "id": "fc427157",
   "metadata": {},
   "outputs": [],
   "source": [
    "img = cv2.imread('Cars108.png')\n",
    "gray = cv2.cvtColor(img, cv2.COLOR_BGR2GRAY)\n",
    "plt.imshow(cv2.cvtColor(gray, cv2.COLOR_BGR2RGB))"
   ]
  },
  {
   "cell_type": "markdown",
   "id": "2d7f7d1f",
   "metadata": {},
   "source": [
    "### 2. Apply filter and find edges for localization\n",
    "\n",
    "Filtering is used to remove noise from image and edge detection will be able to detect edges from image "
   ]
  },
  {
   "cell_type": "code",
   "execution_count": null,
   "id": "7b71ff41",
   "metadata": {},
   "outputs": [],
   "source": [
    "bfilter = cv2.bilateralFilter(gray,11,17,17) # Noise reduction\n",
    "# numbers in bfilter indicates how intensiley we want noise reduction to happen\n",
    "edged = cv2.Canny(bfilter,30,200) # Edge Detection\n",
    "plt.imshow(cv2.cvtColor(edged, cv2.COLOR_BGR2RGB))"
   ]
  },
  {
   "cell_type": "markdown",
   "id": "ba57d065",
   "metadata": {},
   "source": [
    "### 3. Find Contours and Apply Mask"
   ]
  },
  {
   "cell_type": "code",
   "execution_count": null,
   "id": "dc93b5aa",
   "metadata": {},
   "outputs": [],
   "source": [
    "cnts = cv2.findContours(edged.copy(), cv2.RETR_TREE, cv2.CHAIN_APPROX_SIMPLE)\n",
    "contours = imutils.grab_contours(cnts)\n",
    "contours = sorted(contours, key = cv2.contourArea, reverse = True)[:10]"
   ]
  },
  {
   "cell_type": "code",
   "execution_count": null,
   "id": "51646f1e",
   "metadata": {},
   "outputs": [],
   "source": [
    "plt.matshow(edged)"
   ]
  },
  {
   "cell_type": "code",
   "execution_count": null,
   "id": "ccf96aaf",
   "metadata": {},
   "outputs": [],
   "source": [
    "location = None\n",
    "for contour in contours:\n",
    "    approx = cv2.approxPolyDP(contour, 10, True)\n",
    "    if len(approx) == 4:\n",
    "        location = approx\n",
    "        break"
   ]
  },
  {
   "cell_type": "code",
   "execution_count": null,
   "id": "7aebc7c4",
   "metadata": {},
   "outputs": [],
   "source": [
    "location"
   ]
  },
  {
   "cell_type": "code",
   "execution_count": null,
   "id": "f07a5fb4",
   "metadata": {},
   "outputs": [],
   "source": [
    "mask = np.zeros(gray.shape, np.uint8)\n",
    "new_image = cv2.drawContours(mask, [location],0,255,-1)\n",
    "new_image = cv2.bitwise_and(img, img, mask=mask)"
   ]
  },
  {
   "cell_type": "code",
   "execution_count": null,
   "id": "56b2b71f",
   "metadata": {},
   "outputs": [],
   "source": [
    "plt.imshow(cv2.cvtColor(new_image, cv2.COLOR_BGR2RGB))"
   ]
  },
  {
   "cell_type": "code",
   "execution_count": null,
   "id": "9cf47c7c",
   "metadata": {},
   "outputs": [],
   "source": [
    "(x,y) = np.where(mask==255)\n",
    "(x1,y1) = (np.min(x),np.min(y))\n",
    "(x2,y2) =(np.max(x),np.max(y))\n",
    "cropped_image = gray[x1:x2+1, y1:y2+1]\n",
    "# +1 is used to give little bit of buffer"
   ]
  },
  {
   "cell_type": "code",
   "execution_count": null,
   "id": "85949144",
   "metadata": {},
   "outputs": [],
   "source": [
    "plt.imshow(cv2.cvtColor(cropped_image, cv2.COLOR_BGR2RGB))"
   ]
  },
  {
   "cell_type": "markdown",
   "id": "ac39b1c8",
   "metadata": {},
   "source": [
    "### 4. Use Easy OCR To Read Text\n"
   ]
  },
  {
   "cell_type": "code",
   "execution_count": null,
   "id": "12cfeb5d",
   "metadata": {},
   "outputs": [],
   "source": [
    "reader = easyocr.Reader(['en'])\n",
    "result = reader.readtext(cropped_image)\n",
    "result"
   ]
  },
  {
   "cell_type": "markdown",
   "id": "19631320",
   "metadata": {},
   "source": [
    "### 5. Render Result"
   ]
  },
  {
   "cell_type": "code",
   "execution_count": null,
   "id": "ee7c0e8e",
   "metadata": {},
   "outputs": [],
   "source": [
    "text = result[0][-2]\n",
    "text = text.upper()\n",
    "font = cv2.FONT_HERSHEY_SIMPLEX\n",
    "res = cv2.putText(img, text=text, org=(approx[0][0][0]-120, approx[1][0][1]+80), fontFace=font, fontScale=1, color=(0,255,0), thickness=2, lineType=cv2.LINE_AA)\n",
    "res = cv2.rectangle(img, tuple(approx[0][0]), tuple(approx[2][0]), (0,255,0),3)\n",
    "plt.imshow(cv2.cvtColor(res, cv2.COLOR_BGR2RGB))"
   ]
  },
  {
   "cell_type": "code",
   "execution_count": null,
   "id": "6703de08",
   "metadata": {},
   "outputs": [],
   "source": []
  },
  {
   "cell_type": "code",
   "execution_count": null,
   "id": "8ee3171d",
   "metadata": {},
   "outputs": [],
   "source": []
  },
  {
   "cell_type": "code",
   "execution_count": null,
   "id": "ea8fb86c",
   "metadata": {},
   "outputs": [],
   "source": []
  }
 ],
 "metadata": {
  "kernelspec": {
   "display_name": "Python 3 (ipykernel)",
   "language": "python",
   "name": "python3"
  },
  "language_info": {
   "codemirror_mode": {
    "name": "ipython",
    "version": 3
   },
   "file_extension": ".py",
   "mimetype": "text/x-python",
   "name": "python",
   "nbconvert_exporter": "python",
   "pygments_lexer": "ipython3",
   "version": "3.9.7"
  }
 },
 "nbformat": 4,
 "nbformat_minor": 5
}
